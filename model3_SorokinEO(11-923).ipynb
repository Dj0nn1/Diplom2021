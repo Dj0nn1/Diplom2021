{
 "cells": [
  {
   "cell_type": "code",
   "execution_count": 3,
   "metadata": {},
   "outputs": [],
   "source": [
    "# загрузка необходимых для построения моделей библиотек\n",
    "import pandas as pd\n",
    "from sklearn.model_selection import train_test_split\n",
    "from sklearn.linear_model import LogisticRegression\n",
    "from sklearn.metrics import roc_curve\n",
    "from sklearn.metrics import roc_auc_score\n",
    "from matplotlib import pyplot\n",
    "from sklearn.model_selection import GridSearchCV\n",
    "from sklearn.tree import DecisionTreeClassifier\n",
    "from sklearn.ensemble import GradientBoostingClassifier"
   ]
  },
  {
   "cell_type": "code",
   "execution_count": 27,
   "metadata": {},
   "outputs": [],
   "source": [
    "# загрузка выборки\n",
    "sample = pd.read_excel('02_sample.xlsx',index_col='NaturalPersonID')"
   ]
  },
  {
   "cell_type": "code",
   "execution_count": 29,
   "metadata": {},
   "outputs": [
    {
     "data": {
      "text/html": [
       "<div>\n",
       "<style scoped>\n",
       "    .dataframe tbody tr th:only-of-type {\n",
       "        vertical-align: middle;\n",
       "    }\n",
       "\n",
       "    .dataframe tbody tr th {\n",
       "        vertical-align: top;\n",
       "    }\n",
       "\n",
       "    .dataframe thead th {\n",
       "        text-align: right;\n",
       "    }\n",
       "</style>\n",
       "<table border=\"1\" class=\"dataframe\">\n",
       "  <thead>\n",
       "    <tr style=\"text-align: right;\">\n",
       "      <th></th>\n",
       "      <th>target</th>\n",
       "      <th>sex</th>\n",
       "      <th>age</th>\n",
       "      <th>AddressIdentical</th>\n",
       "      <th>EducationStatus</th>\n",
       "      <th>FamilyStatus</th>\n",
       "      <th>otrasl_rabotodatelya</th>\n",
       "      <th>OrgStanding</th>\n",
       "      <th>PeriodOfRegionResidence</th>\n",
       "      <th>segment</th>\n",
       "    </tr>\n",
       "    <tr>\n",
       "      <th>NaturalPersonID</th>\n",
       "      <th></th>\n",
       "      <th></th>\n",
       "      <th></th>\n",
       "      <th></th>\n",
       "      <th></th>\n",
       "      <th></th>\n",
       "      <th></th>\n",
       "      <th></th>\n",
       "      <th></th>\n",
       "      <th></th>\n",
       "    </tr>\n",
       "  </thead>\n",
       "  <tbody>\n",
       "    <tr>\n",
       "      <td>9924E5F4-6D45-4340-AB4F-2CC45F913222</td>\n",
       "      <td>0</td>\n",
       "      <td>0.055869</td>\n",
       "      <td>34</td>\n",
       "      <td>0.041482</td>\n",
       "      <td>0.052190</td>\n",
       "      <td>0.032718</td>\n",
       "      <td>0.050810</td>\n",
       "      <td>13.000000</td>\n",
       "      <td>17.000000</td>\n",
       "      <td>0.067883</td>\n",
       "    </tr>\n",
       "    <tr>\n",
       "      <td>BED3918B-BB5C-4A3D-8025-7AA1ACFA1706</td>\n",
       "      <td>0</td>\n",
       "      <td>0.035119</td>\n",
       "      <td>28</td>\n",
       "      <td>0.041482</td>\n",
       "      <td>0.041504</td>\n",
       "      <td>0.032718</td>\n",
       "      <td>0.063487</td>\n",
       "      <td>2.000000</td>\n",
       "      <td>2.000000</td>\n",
       "      <td>0.029851</td>\n",
       "    </tr>\n",
       "    <tr>\n",
       "      <td>418EB843-9BA2-4DF1-9DFE-83BA4890CC8B</td>\n",
       "      <td>0</td>\n",
       "      <td>0.035119</td>\n",
       "      <td>25</td>\n",
       "      <td>0.041482</td>\n",
       "      <td>0.041504</td>\n",
       "      <td>0.069458</td>\n",
       "      <td>0.041667</td>\n",
       "      <td>2.500000</td>\n",
       "      <td>20.000000</td>\n",
       "      <td>0.029851</td>\n",
       "    </tr>\n",
       "    <tr>\n",
       "      <td>D7113FA2-209D-4E56-9F4F-EC8178049A57</td>\n",
       "      <td>0</td>\n",
       "      <td>0.035119</td>\n",
       "      <td>61</td>\n",
       "      <td>0.041482</td>\n",
       "      <td>0.050053</td>\n",
       "      <td>0.051397</td>\n",
       "      <td>0.026961</td>\n",
       "      <td>16.000000</td>\n",
       "      <td>38.000000</td>\n",
       "      <td>0.029851</td>\n",
       "    </tr>\n",
       "    <tr>\n",
       "      <td>88F3C3A6-8F33-4CE7-BD69-847DF2DF5C97</td>\n",
       "      <td>0</td>\n",
       "      <td>0.055869</td>\n",
       "      <td>26</td>\n",
       "      <td>0.081023</td>\n",
       "      <td>0.050053</td>\n",
       "      <td>0.069458</td>\n",
       "      <td>0.063487</td>\n",
       "      <td>1.500000</td>\n",
       "      <td>23.250000</td>\n",
       "      <td>0.067883</td>\n",
       "    </tr>\n",
       "    <tr>\n",
       "      <td>42BE6809-B38D-4D18-ABEA-4694CDFD413D</td>\n",
       "      <td>1</td>\n",
       "      <td>0.055869</td>\n",
       "      <td>35</td>\n",
       "      <td>0.041482</td>\n",
       "      <td>0.050053</td>\n",
       "      <td>0.032718</td>\n",
       "      <td>0.032864</td>\n",
       "      <td>2.000000</td>\n",
       "      <td>9.000000</td>\n",
       "      <td>0.067883</td>\n",
       "    </tr>\n",
       "    <tr>\n",
       "      <td>734928A5-355E-4EA3-A2AB-FF4FE52C6B62</td>\n",
       "      <td>0</td>\n",
       "      <td>0.055869</td>\n",
       "      <td>30</td>\n",
       "      <td>0.041482</td>\n",
       "      <td>0.041504</td>\n",
       "      <td>0.032718</td>\n",
       "      <td>0.073286</td>\n",
       "      <td>1.083333</td>\n",
       "      <td>16.166666</td>\n",
       "      <td>0.067883</td>\n",
       "    </tr>\n",
       "    <tr>\n",
       "      <td>D1B5A177-A4DC-4922-A3CE-1ADD83AC003E</td>\n",
       "      <td>0</td>\n",
       "      <td>0.055869</td>\n",
       "      <td>48</td>\n",
       "      <td>0.081023</td>\n",
       "      <td>0.050053</td>\n",
       "      <td>0.032718</td>\n",
       "      <td>0.050810</td>\n",
       "      <td>1.166667</td>\n",
       "      <td>13.166666</td>\n",
       "      <td>0.029851</td>\n",
       "    </tr>\n",
       "    <tr>\n",
       "      <td>BA81BE20-5848-48BB-BFAD-ECB09F8233B1</td>\n",
       "      <td>0</td>\n",
       "      <td>0.035119</td>\n",
       "      <td>44</td>\n",
       "      <td>0.041482</td>\n",
       "      <td>0.050053</td>\n",
       "      <td>0.051397</td>\n",
       "      <td>0.030660</td>\n",
       "      <td>23.833333</td>\n",
       "      <td>44.000000</td>\n",
       "      <td>0.029851</td>\n",
       "    </tr>\n",
       "    <tr>\n",
       "      <td>BDB4639A-C446-4AAC-8B46-D1A2F7620F48</td>\n",
       "      <td>0</td>\n",
       "      <td>0.055869</td>\n",
       "      <td>31</td>\n",
       "      <td>0.041482</td>\n",
       "      <td>0.041504</td>\n",
       "      <td>0.032718</td>\n",
       "      <td>0.000000</td>\n",
       "      <td>9.416667</td>\n",
       "      <td>6.916666</td>\n",
       "      <td>0.029851</td>\n",
       "    </tr>\n",
       "  </tbody>\n",
       "</table>\n",
       "</div>"
      ],
      "text/plain": [
       "                                      target       sex  age  AddressIdentical  \\\n",
       "NaturalPersonID                                                                 \n",
       "9924E5F4-6D45-4340-AB4F-2CC45F913222       0  0.055869   34          0.041482   \n",
       "BED3918B-BB5C-4A3D-8025-7AA1ACFA1706       0  0.035119   28          0.041482   \n",
       "418EB843-9BA2-4DF1-9DFE-83BA4890CC8B       0  0.035119   25          0.041482   \n",
       "D7113FA2-209D-4E56-9F4F-EC8178049A57       0  0.035119   61          0.041482   \n",
       "88F3C3A6-8F33-4CE7-BD69-847DF2DF5C97       0  0.055869   26          0.081023   \n",
       "42BE6809-B38D-4D18-ABEA-4694CDFD413D       1  0.055869   35          0.041482   \n",
       "734928A5-355E-4EA3-A2AB-FF4FE52C6B62       0  0.055869   30          0.041482   \n",
       "D1B5A177-A4DC-4922-A3CE-1ADD83AC003E       0  0.055869   48          0.081023   \n",
       "BA81BE20-5848-48BB-BFAD-ECB09F8233B1       0  0.035119   44          0.041482   \n",
       "BDB4639A-C446-4AAC-8B46-D1A2F7620F48       0  0.055869   31          0.041482   \n",
       "\n",
       "                                      EducationStatus  FamilyStatus  \\\n",
       "NaturalPersonID                                                       \n",
       "9924E5F4-6D45-4340-AB4F-2CC45F913222         0.052190      0.032718   \n",
       "BED3918B-BB5C-4A3D-8025-7AA1ACFA1706         0.041504      0.032718   \n",
       "418EB843-9BA2-4DF1-9DFE-83BA4890CC8B         0.041504      0.069458   \n",
       "D7113FA2-209D-4E56-9F4F-EC8178049A57         0.050053      0.051397   \n",
       "88F3C3A6-8F33-4CE7-BD69-847DF2DF5C97         0.050053      0.069458   \n",
       "42BE6809-B38D-4D18-ABEA-4694CDFD413D         0.050053      0.032718   \n",
       "734928A5-355E-4EA3-A2AB-FF4FE52C6B62         0.041504      0.032718   \n",
       "D1B5A177-A4DC-4922-A3CE-1ADD83AC003E         0.050053      0.032718   \n",
       "BA81BE20-5848-48BB-BFAD-ECB09F8233B1         0.050053      0.051397   \n",
       "BDB4639A-C446-4AAC-8B46-D1A2F7620F48         0.041504      0.032718   \n",
       "\n",
       "                                      otrasl_rabotodatelya  OrgStanding  \\\n",
       "NaturalPersonID                                                           \n",
       "9924E5F4-6D45-4340-AB4F-2CC45F913222              0.050810    13.000000   \n",
       "BED3918B-BB5C-4A3D-8025-7AA1ACFA1706              0.063487     2.000000   \n",
       "418EB843-9BA2-4DF1-9DFE-83BA4890CC8B              0.041667     2.500000   \n",
       "D7113FA2-209D-4E56-9F4F-EC8178049A57              0.026961    16.000000   \n",
       "88F3C3A6-8F33-4CE7-BD69-847DF2DF5C97              0.063487     1.500000   \n",
       "42BE6809-B38D-4D18-ABEA-4694CDFD413D              0.032864     2.000000   \n",
       "734928A5-355E-4EA3-A2AB-FF4FE52C6B62              0.073286     1.083333   \n",
       "D1B5A177-A4DC-4922-A3CE-1ADD83AC003E              0.050810     1.166667   \n",
       "BA81BE20-5848-48BB-BFAD-ECB09F8233B1              0.030660    23.833333   \n",
       "BDB4639A-C446-4AAC-8B46-D1A2F7620F48              0.000000     9.416667   \n",
       "\n",
       "                                      PeriodOfRegionResidence   segment  \n",
       "NaturalPersonID                                                          \n",
       "9924E5F4-6D45-4340-AB4F-2CC45F913222                17.000000  0.067883  \n",
       "BED3918B-BB5C-4A3D-8025-7AA1ACFA1706                 2.000000  0.029851  \n",
       "418EB843-9BA2-4DF1-9DFE-83BA4890CC8B                20.000000  0.029851  \n",
       "D7113FA2-209D-4E56-9F4F-EC8178049A57                38.000000  0.029851  \n",
       "88F3C3A6-8F33-4CE7-BD69-847DF2DF5C97                23.250000  0.067883  \n",
       "42BE6809-B38D-4D18-ABEA-4694CDFD413D                 9.000000  0.067883  \n",
       "734928A5-355E-4EA3-A2AB-FF4FE52C6B62                16.166666  0.067883  \n",
       "D1B5A177-A4DC-4922-A3CE-1ADD83AC003E                13.166666  0.029851  \n",
       "BA81BE20-5848-48BB-BFAD-ECB09F8233B1                44.000000  0.029851  \n",
       "BDB4639A-C446-4AAC-8B46-D1A2F7620F48                 6.916666  0.029851  "
      ]
     },
     "execution_count": 29,
     "metadata": {},
     "output_type": "execute_result"
    }
   ],
   "source": [
    "# отображение атрибутов в выборке\n",
    "sample.sample(10, random_state=123)"
   ]
  },
  {
   "cell_type": "code",
   "execution_count": 32,
   "metadata": {},
   "outputs": [
    {
     "data": {
      "text/html": [
       "<div>\n",
       "<style scoped>\n",
       "    .dataframe tbody tr th:only-of-type {\n",
       "        vertical-align: middle;\n",
       "    }\n",
       "\n",
       "    .dataframe tbody tr th {\n",
       "        vertical-align: top;\n",
       "    }\n",
       "\n",
       "    .dataframe thead th {\n",
       "        text-align: right;\n",
       "    }\n",
       "</style>\n",
       "<table border=\"1\" class=\"dataframe\">\n",
       "  <thead>\n",
       "    <tr style=\"text-align: right;\">\n",
       "      <th></th>\n",
       "      <th>count</th>\n",
       "      <th>mean</th>\n",
       "      <th>std</th>\n",
       "      <th>min</th>\n",
       "      <th>25%</th>\n",
       "      <th>50%</th>\n",
       "      <th>75%</th>\n",
       "      <th>max</th>\n",
       "    </tr>\n",
       "  </thead>\n",
       "  <tbody>\n",
       "    <tr>\n",
       "      <td>target</td>\n",
       "      <td>17055.0</td>\n",
       "      <td>0.046966</td>\n",
       "      <td>0.211572</td>\n",
       "      <td>0.000000</td>\n",
       "      <td>0.000000</td>\n",
       "      <td>0.000000</td>\n",
       "      <td>0.000000</td>\n",
       "      <td>1.000000</td>\n",
       "    </tr>\n",
       "    <tr>\n",
       "      <td>sex</td>\n",
       "      <td>17055.0</td>\n",
       "      <td>0.046966</td>\n",
       "      <td>0.010271</td>\n",
       "      <td>0.035119</td>\n",
       "      <td>0.035119</td>\n",
       "      <td>0.055869</td>\n",
       "      <td>0.055869</td>\n",
       "      <td>0.055869</td>\n",
       "    </tr>\n",
       "    <tr>\n",
       "      <td>age</td>\n",
       "      <td>17055.0</td>\n",
       "      <td>38.896394</td>\n",
       "      <td>11.654409</td>\n",
       "      <td>18.000000</td>\n",
       "      <td>29.000000</td>\n",
       "      <td>38.000000</td>\n",
       "      <td>49.000000</td>\n",
       "      <td>63.000000</td>\n",
       "    </tr>\n",
       "    <tr>\n",
       "      <td>AddressIdentical</td>\n",
       "      <td>17055.0</td>\n",
       "      <td>0.046966</td>\n",
       "      <td>0.013496</td>\n",
       "      <td>0.041482</td>\n",
       "      <td>0.041482</td>\n",
       "      <td>0.041482</td>\n",
       "      <td>0.041482</td>\n",
       "      <td>0.081023</td>\n",
       "    </tr>\n",
       "    <tr>\n",
       "      <td>EducationStatus</td>\n",
       "      <td>17055.0</td>\n",
       "      <td>0.046966</td>\n",
       "      <td>0.005267</td>\n",
       "      <td>0.020000</td>\n",
       "      <td>0.041504</td>\n",
       "      <td>0.050053</td>\n",
       "      <td>0.050053</td>\n",
       "      <td>0.058824</td>\n",
       "    </tr>\n",
       "    <tr>\n",
       "      <td>FamilyStatus</td>\n",
       "      <td>17055.0</td>\n",
       "      <td>0.046966</td>\n",
       "      <td>0.017684</td>\n",
       "      <td>0.000000</td>\n",
       "      <td>0.032718</td>\n",
       "      <td>0.032718</td>\n",
       "      <td>0.069458</td>\n",
       "      <td>0.088235</td>\n",
       "    </tr>\n",
       "    <tr>\n",
       "      <td>otrasl_rabotodatelya</td>\n",
       "      <td>17055.0</td>\n",
       "      <td>0.046966</td>\n",
       "      <td>0.017221</td>\n",
       "      <td>0.000000</td>\n",
       "      <td>0.032864</td>\n",
       "      <td>0.050810</td>\n",
       "      <td>0.061822</td>\n",
       "      <td>0.100000</td>\n",
       "    </tr>\n",
       "    <tr>\n",
       "      <td>OrgStanding</td>\n",
       "      <td>17055.0</td>\n",
       "      <td>5.931247</td>\n",
       "      <td>7.068956</td>\n",
       "      <td>0.083333</td>\n",
       "      <td>1.500000</td>\n",
       "      <td>3.250000</td>\n",
       "      <td>7.166667</td>\n",
       "      <td>45.000000</td>\n",
       "    </tr>\n",
       "    <tr>\n",
       "      <td>PeriodOfRegionResidence</td>\n",
       "      <td>17055.0</td>\n",
       "      <td>25.308526</td>\n",
       "      <td>15.412928</td>\n",
       "      <td>0.083333</td>\n",
       "      <td>13.000000</td>\n",
       "      <td>23.666666</td>\n",
       "      <td>35.000000</td>\n",
       "      <td>63.833333</td>\n",
       "    </tr>\n",
       "    <tr>\n",
       "      <td>segment</td>\n",
       "      <td>17055.0</td>\n",
       "      <td>0.046966</td>\n",
       "      <td>0.018921</td>\n",
       "      <td>0.029851</td>\n",
       "      <td>0.029851</td>\n",
       "      <td>0.029851</td>\n",
       "      <td>0.067883</td>\n",
       "      <td>0.067883</td>\n",
       "    </tr>\n",
       "  </tbody>\n",
       "</table>\n",
       "</div>"
      ],
      "text/plain": [
       "                           count       mean        std        min        25%  \\\n",
       "target                   17055.0   0.046966   0.211572   0.000000   0.000000   \n",
       "sex                      17055.0   0.046966   0.010271   0.035119   0.035119   \n",
       "age                      17055.0  38.896394  11.654409  18.000000  29.000000   \n",
       "AddressIdentical         17055.0   0.046966   0.013496   0.041482   0.041482   \n",
       "EducationStatus          17055.0   0.046966   0.005267   0.020000   0.041504   \n",
       "FamilyStatus             17055.0   0.046966   0.017684   0.000000   0.032718   \n",
       "otrasl_rabotodatelya     17055.0   0.046966   0.017221   0.000000   0.032864   \n",
       "OrgStanding              17055.0   5.931247   7.068956   0.083333   1.500000   \n",
       "PeriodOfRegionResidence  17055.0  25.308526  15.412928   0.083333  13.000000   \n",
       "segment                  17055.0   0.046966   0.018921   0.029851   0.029851   \n",
       "\n",
       "                               50%        75%        max  \n",
       "target                    0.000000   0.000000   1.000000  \n",
       "sex                       0.055869   0.055869   0.055869  \n",
       "age                      38.000000  49.000000  63.000000  \n",
       "AddressIdentical          0.041482   0.041482   0.081023  \n",
       "EducationStatus           0.050053   0.050053   0.058824  \n",
       "FamilyStatus              0.032718   0.069458   0.088235  \n",
       "otrasl_rabotodatelya      0.050810   0.061822   0.100000  \n",
       "OrgStanding               3.250000   7.166667  45.000000  \n",
       "PeriodOfRegionResidence  23.666666  35.000000  63.833333  \n",
       "segment                   0.029851   0.067883   0.067883  "
      ]
     },
     "execution_count": 32,
     "metadata": {},
     "output_type": "execute_result"
    }
   ],
   "source": [
    "# проведение транспонирования\n",
    "sample.describe().T"
   ]
  },
  {
   "cell_type": "code",
   "execution_count": 34,
   "metadata": {},
   "outputs": [
    {
     "name": "stdout",
     "output_type": "stream",
     "text": [
      "<class 'pandas.core.frame.DataFrame'>\n",
      "Index: 17055 entries, 96D8120D-F0FE-4D51-BE4A-2CEB9C3918C8 to 9CE86398-7D9D-4352-BA05-A9E67671CAF4\n",
      "Data columns (total 10 columns):\n",
      "target                     17055 non-null int64\n",
      "sex                        17055 non-null float64\n",
      "age                        17055 non-null int64\n",
      "AddressIdentical           17055 non-null float64\n",
      "EducationStatus            17055 non-null float64\n",
      "FamilyStatus               17055 non-null float64\n",
      "otrasl_rabotodatelya       17055 non-null float64\n",
      "OrgStanding                17055 non-null float64\n",
      "PeriodOfRegionResidence    17055 non-null float64\n",
      "segment                    17055 non-null float64\n",
      "dtypes: float64(8), int64(2)\n",
      "memory usage: 1.4+ MB\n"
     ]
    }
   ],
   "source": [
    "# проверка на пропуски и типа переменных\n",
    "sample.info()"
   ]
  },
  {
   "cell_type": "code",
   "execution_count": 37,
   "metadata": {},
   "outputs": [
    {
     "data": {
      "text/plain": [
       "0    16254\n",
       "1      801\n",
       "Name: target, dtype: int64"
      ]
     },
     "execution_count": 37,
     "metadata": {},
     "output_type": "execute_result"
    }
   ],
   "source": [
    "#распределение дефолт и не дефолт\n",
    "sample['target'].value_counts()"
   ]
  },
  {
   "cell_type": "code",
   "execution_count": 39,
   "metadata": {},
   "outputs": [
    {
     "data": {
      "text/plain": [
       "(17055, 10)"
      ]
     },
     "execution_count": 39,
     "metadata": {},
     "output_type": "execute_result"
    }
   ],
   "source": [
    "# проверка размерности выбобрки (количества записей и количество атрибутов)\n",
    "sample.shape"
   ]
  },
  {
   "cell_type": "code",
   "execution_count": 40,
   "metadata": {},
   "outputs": [],
   "source": [
    "Y = sample['target']\n",
    "X = sample.drop(['target'], axis=1)"
   ]
  },
  {
   "cell_type": "code",
   "execution_count": 41,
   "metadata": {},
   "outputs": [],
   "source": [
    "x_train,x_test,y_train,y_test=train_test_split(X,Y,test_size=0.3,random_state=1)"
   ]
  },
  {
   "cell_type": "code",
   "execution_count": 42,
   "metadata": {},
   "outputs": [
    {
     "data": {
      "text/plain": [
       "array(['sex', 'age', 'AddressIdentical', 'EducationStatus',\n",
       "       'FamilyStatus', 'otrasl_rabotodatelya', 'OrgStanding',\n",
       "       'PeriodOfRegionResidence', 'segment'], dtype=object)"
      ]
     },
     "execution_count": 42,
     "metadata": {},
     "output_type": "execute_result"
    }
   ],
   "source": [
    "#Вывод списка всех признаков\n",
    "x_train.columns.values"
   ]
  },
  {
   "cell_type": "code",
   "execution_count": 43,
   "metadata": {},
   "outputs": [
    {
     "name": "stdout",
     "output_type": "stream",
     "text": [
      "VarAUC sex : 0.5524505431887721\n",
      "VarAUC age : 0.6196249396112825\n",
      "VarAUC AddressIdentical : 0.5520199251799274\n",
      "VarAUC EducationStatus : 0.5353085863465754\n",
      "VarAUC FamilyStatus : 0.6024902603837626\n",
      "VarAUC otrasl_rabotodatelya : 0.6105207984936886\n",
      "VarAUC OrgStanding : 0.6314405341459487\n",
      "VarAUC PeriodOfRegionResidence : 0.6237213076170302\n",
      "VarAUC segment : 0.5989610043727626\n"
     ]
    }
   ],
   "source": [
    "#вывод значения AUC для каждого признака\n",
    "for i in ['sex', 'age', 'AddressIdentical', 'EducationStatus',\n",
    "       'FamilyStatus', 'otrasl_rabotodatelya', 'OrgStanding',\n",
    "       'PeriodOfRegionResidence', 'segment']:\n",
    "    #случаи-исключения, для них надо использоват 1-AUC\n",
    "    if i in ['age','OrgStanding','PeriodOfRegionResidence']:\n",
    "        print('VarAUC',i,':',1-roc_auc_score(y_train,x_train[i]))\n",
    "    else:\n",
    "        print('VarAUC',i,':',roc_auc_score(y_train,x_train[i]))"
   ]
  },
  {
   "cell_type": "code",
   "execution_count": 44,
   "metadata": {},
   "outputs": [
    {
     "data": {
      "text/plain": [
       "LogisticRegression(C=1.0, class_weight=None, dual=False, fit_intercept=True,\n",
       "                   intercept_scaling=1, l1_ratio=None, max_iter=100,\n",
       "                   multi_class='warn', n_jobs=None, penalty='none',\n",
       "                   random_state=None, solver='newton-cg', tol=0.0001, verbose=0,\n",
       "                   warm_start=False)"
      ]
     },
     "execution_count": 44,
     "metadata": {},
     "output_type": "execute_result"
    }
   ],
   "source": [
    "logrg=LogisticRegression(solver='newton-cg',penalty='none')\n",
    "logrg.fit(x_train,y_train)"
   ]
  },
  {
   "cell_type": "code",
   "execution_count": 45,
   "metadata": {},
   "outputs": [
    {
     "data": {
      "text/plain": [
       "array([[ 1.68371015e+01, -2.47855498e-03,  1.11153679e+01,\n",
       "         3.60589816e+01,  1.45401548e+01,  1.91470175e+01,\n",
       "        -6.58376795e-02, -1.80750091e-02,  1.42714547e+01]])"
      ]
     },
     "execution_count": 45,
     "metadata": {},
     "output_type": "execute_result"
    }
   ],
   "source": [
    "logrg.coef_"
   ]
  },
  {
   "cell_type": "code",
   "execution_count": 46,
   "metadata": {},
   "outputs": [
    {
     "name": "stdout",
     "output_type": "stream",
     "text": [
      "AUC train: 0.7282789525189838\n",
      "AUC test: 0.7119542484349352\n"
     ]
    }
   ],
   "source": [
    "print('AUC train:',roc_auc_score(y_train,logrg.predict_proba(x_train)[:,1]))\n",
    "print('AUC test:',roc_auc_score(y_test,logrg.predict_proba(x_test)[:,1]))"
   ]
  },
  {
   "cell_type": "code",
   "execution_count": 77,
   "metadata": {},
   "outputs": [
    {
     "data": {
      "image/png": "[encoded data removed]",
      "text/plain": [
       "<Figure size 432x432 with 1 Axes>"
      ]
     },
     "metadata": {
      "needs_background": "light"
     },
     "output_type": "display_data"
    }
   ],
   "source": [
    "fpr1,tpr1,_=roc_curve(y_train,logrg.predict_proba(x_train)[:,1])\n",
    "fpr2,tpr2,_=roc_curve(y_test,logrg.predict_proba(x_test)[:,1])\n",
    "pyplot.figure(figsize=(6,6))\n",
    "pyplot.plot(fpr1,tpr1,label='Logistic (train)')\n",
    "pyplot.plot(fpr2,tpr2,label='Logistic (test)')\n",
    "pyplot.legend()\n",
    "pyplot.show()\n"
   ]
  },
  {
   "cell_type": "code",
   "execution_count": 80,
   "metadata": {},
   "outputs": [
    {
     "data": {
      "text/plain": [
       "{'criterion': 'gini', 'min_samples_leaf': 200}"
      ]
     },
     "execution_count": 80,
     "metadata": {},
     "output_type": "execute_result"
    }
   ],
   "source": [
    "parametrs={'criterion':['gini','entropy'],'min_samples_leaf':range(200,1010,10)}\n",
    "grid=GridSearchCV(DecisionTreeClassifier(),parametrs,cv=5)\n",
    "grid.fit(x_train,y_train)\n",
    "grid.best_params_"
   ]
  },
  {
   "cell_type": "code",
   "execution_count": 81,
   "metadata": {},
   "outputs": [
    {
     "data": {
      "text/plain": [
       "DecisionTreeClassifier(class_weight=None, criterion='gini', max_depth=None,\n",
       "                       max_features=None, max_leaf_nodes=None,\n",
       "                       min_impurity_decrease=0.0, min_impurity_split=None,\n",
       "                       min_samples_leaf=200, min_samples_split=2,\n",
       "                       min_weight_fraction_leaf=0.0, presort=False,\n",
       "                       random_state=1, splitter='best')"
      ]
     },
     "execution_count": 81,
     "metadata": {},
     "output_type": "execute_result"
    }
   ],
   "source": [
    "tree=DecisionTreeClassifier(criterion='gini',min_samples_leaf=200,random_state=1)\n",
    "tree.fit(x_train,y_train)"
   ]
  },
  {
   "cell_type": "code",
   "execution_count": 82,
   "metadata": {},
   "outputs": [
    {
     "name": "stdout",
     "output_type": "stream",
     "text": [
      "AUC train: 0.7521344314789351\n",
      "AUC test: 0.6738091974143476\n"
     ]
    }
   ],
   "source": [
    "print('AUC train:',roc_auc_score(y_train,tree.predict_proba(x_train)[:,1]))\n",
    "print('AUC test:',roc_auc_score(y_test,tree.predict_proba(x_test)[:,1]))"
   ]
  },
  {
   "cell_type": "code",
   "execution_count": 83,
   "metadata": {},
   "outputs": [
    {
     "data": {
      "image/png": "[encoded data removed]",
      "text/plain": [
       "<Figure size 432x432 with 1 Axes>"
      ]
     },
     "metadata": {
      "needs_background": "light"
     },
     "output_type": "display_data"
    }
   ],
   "source": [
    "fpr1,tpr1,_=roc_curve(y_train,tree.predict_proba(x_train)[:,1])\n",
    "fpr2,tpr2,_=roc_curve(y_test,tree.predict_proba(x_test)[:,1])\n",
    "pyplot.figure(figsize=(6,6))\n",
    "pyplot.plot(fpr1,tpr1,label='Tree (train)')\n",
    "pyplot.plot(fpr2,tpr2,label='Tree (test)')\n",
    "pyplot.legend()\n",
    "pyplot.show()"
   ]
  },
  {
   "cell_type": "code",
   "execution_count": 84,
   "metadata": {},
   "outputs": [
    {
     "data": {
      "text/plain": [
       "{'max_depth': 3, 'min_samples_leaf': 260, 'n_estimators': 100}"
      ]
     },
     "execution_count": 84,
     "metadata": {},
     "output_type": "execute_result"
    }
   ],
   "source": [
    "parametrs={'n_estimators':[10,25,50,100],'max_depth':[3,4,5],'min_samples_leaf':range(200,510,10)}\n",
    "grid=GridSearchCV(GradientBoostingClassifier(),parametrs,cv=5)\n",
    "grid.fit(x_train,y_train)\n",
    "grid.best_params_"
   ]
  },
  {
   "cell_type": "code",
   "execution_count": 85,
   "metadata": {},
   "outputs": [
    {
     "data": {
      "text/plain": [
       "GradientBoostingClassifier(criterion='friedman_mse', init=None,\n",
       "                           learning_rate=0.1, loss='deviance', max_depth=3,\n",
       "                           max_features=None, max_leaf_nodes=None,\n",
       "                           min_impurity_decrease=0.0, min_impurity_split=None,\n",
       "                           min_samples_leaf=260, min_samples_split=2,\n",
       "                           min_weight_fraction_leaf=0.0, n_estimators=100,\n",
       "                           n_iter_no_change=None, presort='auto',\n",
       "                           random_state=None, subsample=1.0, tol=0.0001,\n",
       "                           validation_fraction=0.1, verbose=0,\n",
       "                           warm_start=False)"
      ]
     },
     "execution_count": 85,
     "metadata": {},
     "output_type": "execute_result"
    }
   ],
   "source": [
    "gbst=GradientBoostingClassifier(n_estimators=100,max_depth=3,min_samples_leaf=260)\n",
    "gbst.fit(x_train,y_train)"
   ]
  },
  {
   "cell_type": "code",
   "execution_count": 86,
   "metadata": {},
   "outputs": [
    {
     "name": "stdout",
     "output_type": "stream",
     "text": [
      "AUC train: 0.7923686467972302\n",
      "AUC test: 0.7170431258414092\n"
     ]
    }
   ],
   "source": [
    "print('AUC train:',roc_auc_score(y_train,gbst.predict_proba(x_train)[:,1]))\n",
    "print('AUC test:',roc_auc_score(y_test,gbst.predict_proba(x_test)[:,1]))"
   ]
  },
  {
   "cell_type": "code",
   "execution_count": 87,
   "metadata": {},
   "outputs": [
    {
     "data": {
      "image/png": "[encoded data removed]",
      "text/plain": [
       "<Figure size 432x432 with 1 Axes>"
      ]
     },
     "metadata": {
      "needs_background": "light"
     },
     "output_type": "display_data"
    }
   ],
   "source": [
    "fpr1,tpr1,_=roc_curve(y_train,gbst.predict_proba(x_train)[:,1])\n",
    "fpr2,tpr2,_=roc_curve(y_test,gbst.predict_proba(x_test)[:,1])\n",
    "pyplot.figure(figsize=(6,6))\n",
    "pyplot.plot(fpr1,tpr1,label='Boosting (train)')\n",
    "pyplot.plot(fpr2,tpr2,label='Boosting (test)')\n",
    "pyplot.legend()\n",
    "pyplot.show()"
   ]
  }
 ],
 "metadata": {
  "kernelspec": {
   "display_name": "Python 3",
   "language": "python",
   "name": "python3"
  },
  "language_info": {
   "codemirror_mode": {
    "name": "ipython",
    "version": 3
   },
   "file_extension": ".py",
   "mimetype": "text/x-python",
   "name": "python",
   "nbconvert_exporter": "python",
   "pygments_lexer": "ipython3",
   "version": "3.7.4"
  }
 },
 "nbformat": 4,
 "nbformat_minor": 2
}
